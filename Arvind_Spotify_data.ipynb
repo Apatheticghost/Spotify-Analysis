{
 "cells": [
  {
   "cell_type": "code",
   "execution_count": 1,
   "id": "6525516c",
   "metadata": {},
   "outputs": [
    {
     "data": {
      "text/plain": [
       "'C:\\\\Users\\\\mearv\\\\OneDrive\\\\Desktop\\\\Self Projects'"
      ]
     },
     "execution_count": 1,
     "metadata": {},
     "output_type": "execute_result"
    }
   ],
   "source": [
    "import json \n",
    "import pandas as pd\n",
    "import gzip\n",
    "import os\n",
    "os.getcwd()"
   ]
  },
  {
   "cell_type": "code",
   "execution_count": 2,
   "id": "d4c2d167",
   "metadata": {},
   "outputs": [],
   "source": [
    "os.chdir('C:\\\\Users\\\\mearv\\\\OneDrive\\\\Desktop')"
   ]
  },
  {
   "cell_type": "code",
   "execution_count": 3,
   "id": "c8261900",
   "metadata": {},
   "outputs": [],
   "source": [
    "with open('StreamingHistory0.json',encoding='utf-8') as fp:\n",
    "    data = json.load(fp)"
   ]
  },
  {
   "cell_type": "code",
   "execution_count": 4,
   "id": "beac9da8",
   "metadata": {},
   "outputs": [],
   "source": [
    "df=pd.DataFrame(data)"
   ]
  },
  {
   "cell_type": "code",
   "execution_count": 5,
   "id": "6fce657f",
   "metadata": {},
   "outputs": [
    {
     "data": {
      "text/html": [
       "<div>\n",
       "<style scoped>\n",
       "    .dataframe tbody tr th:only-of-type {\n",
       "        vertical-align: middle;\n",
       "    }\n",
       "\n",
       "    .dataframe tbody tr th {\n",
       "        vertical-align: top;\n",
       "    }\n",
       "\n",
       "    .dataframe thead th {\n",
       "        text-align: right;\n",
       "    }\n",
       "</style>\n",
       "<table border=\"1\" class=\"dataframe\">\n",
       "  <thead>\n",
       "    <tr style=\"text-align: right;\">\n",
       "      <th></th>\n",
       "      <th>endTime</th>\n",
       "      <th>artistName</th>\n",
       "      <th>trackName</th>\n",
       "      <th>msPlayed</th>\n",
       "    </tr>\n",
       "  </thead>\n",
       "  <tbody>\n",
       "    <tr>\n",
       "      <th>0</th>\n",
       "      <td>2022-02-12 01:34</td>\n",
       "      <td>Kanye West</td>\n",
       "      <td>Can't Tell Me Nothing</td>\n",
       "      <td>206122</td>\n",
       "    </tr>\n",
       "    <tr>\n",
       "      <th>1</th>\n",
       "      <td>2022-02-12 01:34</td>\n",
       "      <td>Kanye West</td>\n",
       "      <td>Can't Tell Me Nothing</td>\n",
       "      <td>1066</td>\n",
       "    </tr>\n",
       "    <tr>\n",
       "      <th>2</th>\n",
       "      <td>2022-02-12 01:35</td>\n",
       "      <td>Kanye West</td>\n",
       "      <td>Can't Tell Me Nothing</td>\n",
       "      <td>6357</td>\n",
       "    </tr>\n",
       "    <tr>\n",
       "      <th>3</th>\n",
       "      <td>2022-02-12 01:39</td>\n",
       "      <td>Swedish House Mafia</td>\n",
       "      <td>Moth To A Flame (with The Weeknd)</td>\n",
       "      <td>234000</td>\n",
       "    </tr>\n",
       "    <tr>\n",
       "      <th>4</th>\n",
       "      <td>2022-02-12 01:43</td>\n",
       "      <td>FATE</td>\n",
       "      <td>Darkness</td>\n",
       "      <td>135500</td>\n",
       "    </tr>\n",
       "  </tbody>\n",
       "</table>\n",
       "</div>"
      ],
      "text/plain": [
       "            endTime           artistName                          trackName  \\\n",
       "0  2022-02-12 01:34           Kanye West              Can't Tell Me Nothing   \n",
       "1  2022-02-12 01:34           Kanye West              Can't Tell Me Nothing   \n",
       "2  2022-02-12 01:35           Kanye West              Can't Tell Me Nothing   \n",
       "3  2022-02-12 01:39  Swedish House Mafia  Moth To A Flame (with The Weeknd)   \n",
       "4  2022-02-12 01:43                 FATE                           Darkness   \n",
       "\n",
       "   msPlayed  \n",
       "0    206122  \n",
       "1      1066  \n",
       "2      6357  \n",
       "3    234000  \n",
       "4    135500  "
      ]
     },
     "execution_count": 5,
     "metadata": {},
     "output_type": "execute_result"
    }
   ],
   "source": [
    "df.head()"
   ]
  },
  {
   "cell_type": "code",
   "execution_count": 6,
   "id": "ab8dbd08",
   "metadata": {},
   "outputs": [
    {
     "data": {
      "text/plain": [
       "(10000, 4)"
      ]
     },
     "execution_count": 6,
     "metadata": {},
     "output_type": "execute_result"
    }
   ],
   "source": [
    "df.shape"
   ]
  },
  {
   "cell_type": "code",
   "execution_count": 7,
   "id": "a0b0931d",
   "metadata": {},
   "outputs": [
    {
     "data": {
      "text/plain": [
       "False"
      ]
     },
     "execution_count": 7,
     "metadata": {},
     "output_type": "execute_result"
    }
   ],
   "source": [
    "df.duplicated().any()"
   ]
  },
  {
   "cell_type": "code",
   "execution_count": 8,
   "id": "bb71330c",
   "metadata": {},
   "outputs": [
    {
     "data": {
      "text/plain": [
       "endTime       0\n",
       "artistName    0\n",
       "trackName     0\n",
       "msPlayed      0\n",
       "dtype: int64"
      ]
     },
     "execution_count": 8,
     "metadata": {},
     "output_type": "execute_result"
    }
   ],
   "source": [
    "df.isnull().sum()"
   ]
  },
  {
   "cell_type": "code",
   "execution_count": 10,
   "id": "aaefbc9f",
   "metadata": {},
   "outputs": [],
   "source": [
    "with open('StreamingHistory1.json',encoding='utf-8') as fp:\n",
    "    data_1 = json.load(fp)\n",
    "df_1=pd.DataFrame(data_1)"
   ]
  },
  {
   "cell_type": "code",
   "execution_count": 11,
   "id": "a5084d7c",
   "metadata": {},
   "outputs": [
    {
     "data": {
      "text/html": [
       "<div>\n",
       "<style scoped>\n",
       "    .dataframe tbody tr th:only-of-type {\n",
       "        vertical-align: middle;\n",
       "    }\n",
       "\n",
       "    .dataframe tbody tr th {\n",
       "        vertical-align: top;\n",
       "    }\n",
       "\n",
       "    .dataframe thead th {\n",
       "        text-align: right;\n",
       "    }\n",
       "</style>\n",
       "<table border=\"1\" class=\"dataframe\">\n",
       "  <thead>\n",
       "    <tr style=\"text-align: right;\">\n",
       "      <th></th>\n",
       "      <th>endTime</th>\n",
       "      <th>artistName</th>\n",
       "      <th>trackName</th>\n",
       "      <th>msPlayed</th>\n",
       "    </tr>\n",
       "  </thead>\n",
       "  <tbody>\n",
       "    <tr>\n",
       "      <th>0</th>\n",
       "      <td>2022-08-05 20:36</td>\n",
       "      <td>Basstrologe</td>\n",
       "      <td>Somebody To Love</td>\n",
       "      <td>136195</td>\n",
       "    </tr>\n",
       "    <tr>\n",
       "      <th>1</th>\n",
       "      <td>2022-08-05 20:39</td>\n",
       "      <td>Major Lazer</td>\n",
       "      <td>Light It Up - Remix</td>\n",
       "      <td>166138</td>\n",
       "    </tr>\n",
       "    <tr>\n",
       "      <th>2</th>\n",
       "      <td>2022-08-05 20:43</td>\n",
       "      <td>Arivu</td>\n",
       "      <td>Namma Stories</td>\n",
       "      <td>228347</td>\n",
       "    </tr>\n",
       "    <tr>\n",
       "      <th>3</th>\n",
       "      <td>2022-08-05 20:46</td>\n",
       "      <td>The White Stripes</td>\n",
       "      <td>Seven Nation Army</td>\n",
       "      <td>232106</td>\n",
       "    </tr>\n",
       "    <tr>\n",
       "      <th>4</th>\n",
       "      <td>2022-08-05 20:50</td>\n",
       "      <td>The Weeknd</td>\n",
       "      <td>Blinding Lights</td>\n",
       "      <td>200040</td>\n",
       "    </tr>\n",
       "  </tbody>\n",
       "</table>\n",
       "</div>"
      ],
      "text/plain": [
       "            endTime         artistName            trackName  msPlayed\n",
       "0  2022-08-05 20:36        Basstrologe     Somebody To Love    136195\n",
       "1  2022-08-05 20:39        Major Lazer  Light It Up - Remix    166138\n",
       "2  2022-08-05 20:43              Arivu        Namma Stories    228347\n",
       "3  2022-08-05 20:46  The White Stripes    Seven Nation Army    232106\n",
       "4  2022-08-05 20:50         The Weeknd      Blinding Lights    200040"
      ]
     },
     "execution_count": 11,
     "metadata": {},
     "output_type": "execute_result"
    }
   ],
   "source": [
    "df_1.head()"
   ]
  },
  {
   "cell_type": "markdown",
   "id": "761a1bbb",
   "metadata": {},
   "source": [
    "## Let's deal with the first data"
   ]
  },
  {
   "cell_type": "code",
   "execution_count": 12,
   "id": "30c9b6e5",
   "metadata": {},
   "outputs": [
    {
     "data": {
      "text/plain": [
       "('2022-08-05 20:34', '2022-02-12 01:34')"
      ]
     },
     "execution_count": 12,
     "metadata": {},
     "output_type": "execute_result"
    }
   ],
   "source": [
    "df.endTime.max(),df.endTime.min()"
   ]
  },
  {
   "cell_type": "code",
   "execution_count": 13,
   "id": "6af6048e",
   "metadata": {},
   "outputs": [
    {
     "data": {
      "text/plain": [
       "('2023-02-12 19:04', '2022-08-05 20:36')"
      ]
     },
     "execution_count": 13,
     "metadata": {},
     "output_type": "execute_result"
    }
   ],
   "source": [
    "df_1.endTime.max(),df_1.endTime.min()"
   ]
  },
  {
   "cell_type": "code",
   "execution_count": 14,
   "id": "13650a7c",
   "metadata": {},
   "outputs": [
    {
     "data": {
      "text/plain": [
       "dtype('O')"
      ]
     },
     "execution_count": 14,
     "metadata": {},
     "output_type": "execute_result"
    }
   ],
   "source": [
    "df.endTime.dtype"
   ]
  },
  {
   "cell_type": "code",
   "execution_count": 23,
   "id": "ce198b64",
   "metadata": {},
   "outputs": [
    {
     "data": {
      "text/html": [
       "<div>\n",
       "<style scoped>\n",
       "    .dataframe tbody tr th:only-of-type {\n",
       "        vertical-align: middle;\n",
       "    }\n",
       "\n",
       "    .dataframe tbody tr th {\n",
       "        vertical-align: top;\n",
       "    }\n",
       "\n",
       "    .dataframe thead th {\n",
       "        text-align: right;\n",
       "    }\n",
       "</style>\n",
       "<table border=\"1\" class=\"dataframe\">\n",
       "  <thead>\n",
       "    <tr style=\"text-align: right;\">\n",
       "      <th></th>\n",
       "      <th>endTime</th>\n",
       "      <th>artistName</th>\n",
       "      <th>trackName</th>\n",
       "      <th>msPlayed</th>\n",
       "    </tr>\n",
       "  </thead>\n",
       "  <tbody>\n",
       "    <tr>\n",
       "      <th>0</th>\n",
       "      <td>2022-02-12 01:34</td>\n",
       "      <td>Kanye West</td>\n",
       "      <td>Can't Tell Me Nothing</td>\n",
       "      <td>206122</td>\n",
       "    </tr>\n",
       "    <tr>\n",
       "      <th>1</th>\n",
       "      <td>2022-02-12 01:34</td>\n",
       "      <td>Kanye West</td>\n",
       "      <td>Can't Tell Me Nothing</td>\n",
       "      <td>1066</td>\n",
       "    </tr>\n",
       "    <tr>\n",
       "      <th>2</th>\n",
       "      <td>2022-02-12 01:35</td>\n",
       "      <td>Kanye West</td>\n",
       "      <td>Can't Tell Me Nothing</td>\n",
       "      <td>6357</td>\n",
       "    </tr>\n",
       "    <tr>\n",
       "      <th>3</th>\n",
       "      <td>2022-02-12 01:39</td>\n",
       "      <td>Swedish House Mafia</td>\n",
       "      <td>Moth To A Flame (with The Weeknd)</td>\n",
       "      <td>234000</td>\n",
       "    </tr>\n",
       "    <tr>\n",
       "      <th>4</th>\n",
       "      <td>2022-02-12 01:43</td>\n",
       "      <td>FATE</td>\n",
       "      <td>Darkness</td>\n",
       "      <td>135500</td>\n",
       "    </tr>\n",
       "    <tr>\n",
       "      <th>...</th>\n",
       "      <td>...</td>\n",
       "      <td>...</td>\n",
       "      <td>...</td>\n",
       "      <td>...</td>\n",
       "    </tr>\n",
       "    <tr>\n",
       "      <th>9995</th>\n",
       "      <td>2022-08-05 20:20</td>\n",
       "      <td>S. P. Balasubrahmanyam</td>\n",
       "      <td>Oruvan Oruvan Mudalali</td>\n",
       "      <td>381411</td>\n",
       "    </tr>\n",
       "    <tr>\n",
       "      <th>9996</th>\n",
       "      <td>2022-08-05 20:24</td>\n",
       "      <td>Vijay</td>\n",
       "      <td>Selfie Pulla</td>\n",
       "      <td>293000</td>\n",
       "    </tr>\n",
       "    <tr>\n",
       "      <th>9997</th>\n",
       "      <td>2022-08-05 20:27</td>\n",
       "      <td>Akon</td>\n",
       "      <td>Holla Holla</td>\n",
       "      <td>180186</td>\n",
       "    </tr>\n",
       "    <tr>\n",
       "      <th>9998</th>\n",
       "      <td>2022-08-05 20:31</td>\n",
       "      <td>*NSYNC</td>\n",
       "      <td>Bye Bye Bye</td>\n",
       "      <td>200560</td>\n",
       "    </tr>\n",
       "    <tr>\n",
       "      <th>9999</th>\n",
       "      <td>2022-08-05 20:34</td>\n",
       "      <td>benny blanco</td>\n",
       "      <td>Eastside (with Halsey &amp; Khalid)</td>\n",
       "      <td>173799</td>\n",
       "    </tr>\n",
       "  </tbody>\n",
       "</table>\n",
       "<p>10000 rows × 4 columns</p>\n",
       "</div>"
      ],
      "text/plain": [
       "               endTime              artistName  \\\n",
       "0     2022-02-12 01:34              Kanye West   \n",
       "1     2022-02-12 01:34              Kanye West   \n",
       "2     2022-02-12 01:35              Kanye West   \n",
       "3     2022-02-12 01:39     Swedish House Mafia   \n",
       "4     2022-02-12 01:43                    FATE   \n",
       "...                ...                     ...   \n",
       "9995  2022-08-05 20:20  S. P. Balasubrahmanyam   \n",
       "9996  2022-08-05 20:24                   Vijay   \n",
       "9997  2022-08-05 20:27                    Akon   \n",
       "9998  2022-08-05 20:31                  *NSYNC   \n",
       "9999  2022-08-05 20:34            benny blanco   \n",
       "\n",
       "                              trackName  msPlayed  \n",
       "0                 Can't Tell Me Nothing    206122  \n",
       "1                 Can't Tell Me Nothing      1066  \n",
       "2                 Can't Tell Me Nothing      6357  \n",
       "3     Moth To A Flame (with The Weeknd)    234000  \n",
       "4                              Darkness    135500  \n",
       "...                                 ...       ...  \n",
       "9995             Oruvan Oruvan Mudalali    381411  \n",
       "9996                       Selfie Pulla    293000  \n",
       "9997                        Holla Holla    180186  \n",
       "9998                        Bye Bye Bye    200560  \n",
       "9999    Eastside (with Halsey & Khalid)    173799  \n",
       "\n",
       "[10000 rows x 4 columns]"
      ]
     },
     "execution_count": 23,
     "metadata": {},
     "output_type": "execute_result"
    }
   ],
   "source": [
    "df"
   ]
  },
  {
   "cell_type": "code",
   "execution_count": 25,
   "id": "fecba3a4",
   "metadata": {},
   "outputs": [],
   "source": [
    "df['Time_sample']=pd.to_datetime(df['endTime'])"
   ]
  },
  {
   "cell_type": "code",
   "execution_count": 26,
   "id": "d90e77a0",
   "metadata": {},
   "outputs": [
    {
     "name": "stdout",
     "output_type": "stream",
     "text": [
      "<class 'pandas.core.frame.DataFrame'>\n",
      "RangeIndex: 10000 entries, 0 to 9999\n",
      "Data columns (total 5 columns):\n",
      " #   Column       Non-Null Count  Dtype         \n",
      "---  ------       --------------  -----         \n",
      " 0   endTime      10000 non-null  object        \n",
      " 1   artistName   10000 non-null  object        \n",
      " 2   trackName    10000 non-null  object        \n",
      " 3   msPlayed     10000 non-null  int64         \n",
      " 4   Time_sample  10000 non-null  datetime64[ns]\n",
      "dtypes: datetime64[ns](1), int64(1), object(3)\n",
      "memory usage: 390.8+ KB\n"
     ]
    }
   ],
   "source": [
    "df.info()"
   ]
  },
  {
   "cell_type": "code",
   "execution_count": 27,
   "id": "17702b37",
   "metadata": {},
   "outputs": [],
   "source": [
    "df['Time']=df['Time_sample'].dt.time"
   ]
  },
  {
   "cell_type": "code",
   "execution_count": 28,
   "id": "1e04f0b9",
   "metadata": {},
   "outputs": [],
   "source": [
    "df['Date']=df['Time_sample'].dt.date"
   ]
  },
  {
   "cell_type": "code",
   "execution_count": 29,
   "id": "2a97e5ae",
   "metadata": {},
   "outputs": [
    {
     "name": "stdout",
     "output_type": "stream",
     "text": [
      "<class 'pandas.core.frame.DataFrame'>\n",
      "RangeIndex: 10000 entries, 0 to 9999\n",
      "Data columns (total 7 columns):\n",
      " #   Column       Non-Null Count  Dtype         \n",
      "---  ------       --------------  -----         \n",
      " 0   endTime      10000 non-null  object        \n",
      " 1   artistName   10000 non-null  object        \n",
      " 2   trackName    10000 non-null  object        \n",
      " 3   msPlayed     10000 non-null  int64         \n",
      " 4   Time_sample  10000 non-null  datetime64[ns]\n",
      " 5   Time         10000 non-null  object        \n",
      " 6   Date         10000 non-null  object        \n",
      "dtypes: datetime64[ns](1), int64(1), object(5)\n",
      "memory usage: 547.0+ KB\n"
     ]
    }
   ],
   "source": [
    "df.info()"
   ]
  },
  {
   "cell_type": "code",
   "execution_count": 30,
   "id": "7a732983",
   "metadata": {},
   "outputs": [
    {
     "data": {
      "text/html": [
       "<div>\n",
       "<style scoped>\n",
       "    .dataframe tbody tr th:only-of-type {\n",
       "        vertical-align: middle;\n",
       "    }\n",
       "\n",
       "    .dataframe tbody tr th {\n",
       "        vertical-align: top;\n",
       "    }\n",
       "\n",
       "    .dataframe thead th {\n",
       "        text-align: right;\n",
       "    }\n",
       "</style>\n",
       "<table border=\"1\" class=\"dataframe\">\n",
       "  <thead>\n",
       "    <tr style=\"text-align: right;\">\n",
       "      <th></th>\n",
       "      <th>endTime</th>\n",
       "      <th>artistName</th>\n",
       "      <th>trackName</th>\n",
       "      <th>msPlayed</th>\n",
       "      <th>Time</th>\n",
       "      <th>Date</th>\n",
       "    </tr>\n",
       "  </thead>\n",
       "  <tbody>\n",
       "    <tr>\n",
       "      <th>0</th>\n",
       "      <td>2022-02-12 01:34</td>\n",
       "      <td>Kanye West</td>\n",
       "      <td>Can't Tell Me Nothing</td>\n",
       "      <td>206122</td>\n",
       "      <td>01:34:00</td>\n",
       "      <td>2022-02-12</td>\n",
       "    </tr>\n",
       "    <tr>\n",
       "      <th>1</th>\n",
       "      <td>2022-02-12 01:34</td>\n",
       "      <td>Kanye West</td>\n",
       "      <td>Can't Tell Me Nothing</td>\n",
       "      <td>1066</td>\n",
       "      <td>01:34:00</td>\n",
       "      <td>2022-02-12</td>\n",
       "    </tr>\n",
       "    <tr>\n",
       "      <th>2</th>\n",
       "      <td>2022-02-12 01:35</td>\n",
       "      <td>Kanye West</td>\n",
       "      <td>Can't Tell Me Nothing</td>\n",
       "      <td>6357</td>\n",
       "      <td>01:35:00</td>\n",
       "      <td>2022-02-12</td>\n",
       "    </tr>\n",
       "    <tr>\n",
       "      <th>3</th>\n",
       "      <td>2022-02-12 01:39</td>\n",
       "      <td>Swedish House Mafia</td>\n",
       "      <td>Moth To A Flame (with The Weeknd)</td>\n",
       "      <td>234000</td>\n",
       "      <td>01:39:00</td>\n",
       "      <td>2022-02-12</td>\n",
       "    </tr>\n",
       "    <tr>\n",
       "      <th>4</th>\n",
       "      <td>2022-02-12 01:43</td>\n",
       "      <td>FATE</td>\n",
       "      <td>Darkness</td>\n",
       "      <td>135500</td>\n",
       "      <td>01:43:00</td>\n",
       "      <td>2022-02-12</td>\n",
       "    </tr>\n",
       "  </tbody>\n",
       "</table>\n",
       "</div>"
      ],
      "text/plain": [
       "            endTime           artistName                          trackName  \\\n",
       "0  2022-02-12 01:34           Kanye West              Can't Tell Me Nothing   \n",
       "1  2022-02-12 01:34           Kanye West              Can't Tell Me Nothing   \n",
       "2  2022-02-12 01:35           Kanye West              Can't Tell Me Nothing   \n",
       "3  2022-02-12 01:39  Swedish House Mafia  Moth To A Flame (with The Weeknd)   \n",
       "4  2022-02-12 01:43                 FATE                           Darkness   \n",
       "\n",
       "   msPlayed      Time        Date  \n",
       "0    206122  01:34:00  2022-02-12  \n",
       "1      1066  01:34:00  2022-02-12  \n",
       "2      6357  01:35:00  2022-02-12  \n",
       "3    234000  01:39:00  2022-02-12  \n",
       "4    135500  01:43:00  2022-02-12  "
      ]
     },
     "execution_count": 30,
     "metadata": {},
     "output_type": "execute_result"
    }
   ],
   "source": [
    "df.drop(columns='Time_sample',inplace=True)\n",
    "df.head()"
   ]
  },
  {
   "cell_type": "markdown",
   "id": "9e6f61df",
   "metadata": {},
   "source": [
    "### We've extracted date and time separately, now lets convert msplayed to actual mins"
   ]
  },
  {
   "cell_type": "code",
   "execution_count": 31,
   "id": "8be8e20e",
   "metadata": {},
   "outputs": [],
   "source": [
    "df['Mins_played']=df['msPlayed'].apply(lambda x : x/60000)"
   ]
  },
  {
   "cell_type": "code",
   "execution_count": 32,
   "id": "a6fceba1",
   "metadata": {},
   "outputs": [],
   "source": [
    "df['Date']=pd.to_datetime(df['Date'])"
   ]
  },
  {
   "cell_type": "code",
   "execution_count": 33,
   "id": "aa93b735",
   "metadata": {},
   "outputs": [],
   "source": [
    "df['Month']=df['Date'].dt.month\n",
    "df['Day']=df['Date'].dt.day"
   ]
  },
  {
   "cell_type": "code",
   "execution_count": 34,
   "id": "76331703",
   "metadata": {},
   "outputs": [
    {
     "data": {
      "text/html": [
       "<div>\n",
       "<style scoped>\n",
       "    .dataframe tbody tr th:only-of-type {\n",
       "        vertical-align: middle;\n",
       "    }\n",
       "\n",
       "    .dataframe tbody tr th {\n",
       "        vertical-align: top;\n",
       "    }\n",
       "\n",
       "    .dataframe thead th {\n",
       "        text-align: right;\n",
       "    }\n",
       "</style>\n",
       "<table border=\"1\" class=\"dataframe\">\n",
       "  <thead>\n",
       "    <tr style=\"text-align: right;\">\n",
       "      <th></th>\n",
       "      <th>endTime</th>\n",
       "      <th>artistName</th>\n",
       "      <th>trackName</th>\n",
       "      <th>msPlayed</th>\n",
       "      <th>Time</th>\n",
       "      <th>Date</th>\n",
       "      <th>Mins_played</th>\n",
       "      <th>Month</th>\n",
       "      <th>Day</th>\n",
       "    </tr>\n",
       "  </thead>\n",
       "  <tbody>\n",
       "    <tr>\n",
       "      <th>0</th>\n",
       "      <td>2022-02-12 01:34</td>\n",
       "      <td>Kanye West</td>\n",
       "      <td>Can't Tell Me Nothing</td>\n",
       "      <td>206122</td>\n",
       "      <td>01:34:00</td>\n",
       "      <td>2022-02-12</td>\n",
       "      <td>3.435367</td>\n",
       "      <td>2</td>\n",
       "      <td>12</td>\n",
       "    </tr>\n",
       "    <tr>\n",
       "      <th>1</th>\n",
       "      <td>2022-02-12 01:34</td>\n",
       "      <td>Kanye West</td>\n",
       "      <td>Can't Tell Me Nothing</td>\n",
       "      <td>1066</td>\n",
       "      <td>01:34:00</td>\n",
       "      <td>2022-02-12</td>\n",
       "      <td>0.017767</td>\n",
       "      <td>2</td>\n",
       "      <td>12</td>\n",
       "    </tr>\n",
       "    <tr>\n",
       "      <th>2</th>\n",
       "      <td>2022-02-12 01:35</td>\n",
       "      <td>Kanye West</td>\n",
       "      <td>Can't Tell Me Nothing</td>\n",
       "      <td>6357</td>\n",
       "      <td>01:35:00</td>\n",
       "      <td>2022-02-12</td>\n",
       "      <td>0.105950</td>\n",
       "      <td>2</td>\n",
       "      <td>12</td>\n",
       "    </tr>\n",
       "    <tr>\n",
       "      <th>3</th>\n",
       "      <td>2022-02-12 01:39</td>\n",
       "      <td>Swedish House Mafia</td>\n",
       "      <td>Moth To A Flame (with The Weeknd)</td>\n",
       "      <td>234000</td>\n",
       "      <td>01:39:00</td>\n",
       "      <td>2022-02-12</td>\n",
       "      <td>3.900000</td>\n",
       "      <td>2</td>\n",
       "      <td>12</td>\n",
       "    </tr>\n",
       "    <tr>\n",
       "      <th>4</th>\n",
       "      <td>2022-02-12 01:43</td>\n",
       "      <td>FATE</td>\n",
       "      <td>Darkness</td>\n",
       "      <td>135500</td>\n",
       "      <td>01:43:00</td>\n",
       "      <td>2022-02-12</td>\n",
       "      <td>2.258333</td>\n",
       "      <td>2</td>\n",
       "      <td>12</td>\n",
       "    </tr>\n",
       "    <tr>\n",
       "      <th>...</th>\n",
       "      <td>...</td>\n",
       "      <td>...</td>\n",
       "      <td>...</td>\n",
       "      <td>...</td>\n",
       "      <td>...</td>\n",
       "      <td>...</td>\n",
       "      <td>...</td>\n",
       "      <td>...</td>\n",
       "      <td>...</td>\n",
       "    </tr>\n",
       "    <tr>\n",
       "      <th>9995</th>\n",
       "      <td>2022-08-05 20:20</td>\n",
       "      <td>S. P. Balasubrahmanyam</td>\n",
       "      <td>Oruvan Oruvan Mudalali</td>\n",
       "      <td>381411</td>\n",
       "      <td>20:20:00</td>\n",
       "      <td>2022-08-05</td>\n",
       "      <td>6.356850</td>\n",
       "      <td>8</td>\n",
       "      <td>5</td>\n",
       "    </tr>\n",
       "    <tr>\n",
       "      <th>9996</th>\n",
       "      <td>2022-08-05 20:24</td>\n",
       "      <td>Vijay</td>\n",
       "      <td>Selfie Pulla</td>\n",
       "      <td>293000</td>\n",
       "      <td>20:24:00</td>\n",
       "      <td>2022-08-05</td>\n",
       "      <td>4.883333</td>\n",
       "      <td>8</td>\n",
       "      <td>5</td>\n",
       "    </tr>\n",
       "    <tr>\n",
       "      <th>9997</th>\n",
       "      <td>2022-08-05 20:27</td>\n",
       "      <td>Akon</td>\n",
       "      <td>Holla Holla</td>\n",
       "      <td>180186</td>\n",
       "      <td>20:27:00</td>\n",
       "      <td>2022-08-05</td>\n",
       "      <td>3.003100</td>\n",
       "      <td>8</td>\n",
       "      <td>5</td>\n",
       "    </tr>\n",
       "    <tr>\n",
       "      <th>9998</th>\n",
       "      <td>2022-08-05 20:31</td>\n",
       "      <td>*NSYNC</td>\n",
       "      <td>Bye Bye Bye</td>\n",
       "      <td>200560</td>\n",
       "      <td>20:31:00</td>\n",
       "      <td>2022-08-05</td>\n",
       "      <td>3.342667</td>\n",
       "      <td>8</td>\n",
       "      <td>5</td>\n",
       "    </tr>\n",
       "    <tr>\n",
       "      <th>9999</th>\n",
       "      <td>2022-08-05 20:34</td>\n",
       "      <td>benny blanco</td>\n",
       "      <td>Eastside (with Halsey &amp; Khalid)</td>\n",
       "      <td>173799</td>\n",
       "      <td>20:34:00</td>\n",
       "      <td>2022-08-05</td>\n",
       "      <td>2.896650</td>\n",
       "      <td>8</td>\n",
       "      <td>5</td>\n",
       "    </tr>\n",
       "  </tbody>\n",
       "</table>\n",
       "<p>10000 rows × 9 columns</p>\n",
       "</div>"
      ],
      "text/plain": [
       "               endTime              artistName  \\\n",
       "0     2022-02-12 01:34              Kanye West   \n",
       "1     2022-02-12 01:34              Kanye West   \n",
       "2     2022-02-12 01:35              Kanye West   \n",
       "3     2022-02-12 01:39     Swedish House Mafia   \n",
       "4     2022-02-12 01:43                    FATE   \n",
       "...                ...                     ...   \n",
       "9995  2022-08-05 20:20  S. P. Balasubrahmanyam   \n",
       "9996  2022-08-05 20:24                   Vijay   \n",
       "9997  2022-08-05 20:27                    Akon   \n",
       "9998  2022-08-05 20:31                  *NSYNC   \n",
       "9999  2022-08-05 20:34            benny blanco   \n",
       "\n",
       "                              trackName  msPlayed      Time       Date  \\\n",
       "0                 Can't Tell Me Nothing    206122  01:34:00 2022-02-12   \n",
       "1                 Can't Tell Me Nothing      1066  01:34:00 2022-02-12   \n",
       "2                 Can't Tell Me Nothing      6357  01:35:00 2022-02-12   \n",
       "3     Moth To A Flame (with The Weeknd)    234000  01:39:00 2022-02-12   \n",
       "4                              Darkness    135500  01:43:00 2022-02-12   \n",
       "...                                 ...       ...       ...        ...   \n",
       "9995             Oruvan Oruvan Mudalali    381411  20:20:00 2022-08-05   \n",
       "9996                       Selfie Pulla    293000  20:24:00 2022-08-05   \n",
       "9997                        Holla Holla    180186  20:27:00 2022-08-05   \n",
       "9998                        Bye Bye Bye    200560  20:31:00 2022-08-05   \n",
       "9999    Eastside (with Halsey & Khalid)    173799  20:34:00 2022-08-05   \n",
       "\n",
       "      Mins_played  Month  Day  \n",
       "0        3.435367      2   12  \n",
       "1        0.017767      2   12  \n",
       "2        0.105950      2   12  \n",
       "3        3.900000      2   12  \n",
       "4        2.258333      2   12  \n",
       "...           ...    ...  ...  \n",
       "9995     6.356850      8    5  \n",
       "9996     4.883333      8    5  \n",
       "9997     3.003100      8    5  \n",
       "9998     3.342667      8    5  \n",
       "9999     2.896650      8    5  \n",
       "\n",
       "[10000 rows x 9 columns]"
      ]
     },
     "execution_count": 34,
     "metadata": {},
     "output_type": "execute_result"
    }
   ],
   "source": [
    "df"
   ]
  },
  {
   "cell_type": "markdown",
   "id": "9a1f8778",
   "metadata": {},
   "source": [
    "### We have extracted as many columns as we need for analysis, let's move to EDA"
   ]
  },
  {
   "cell_type": "code",
   "execution_count": 35,
   "id": "cdc7eb82",
   "metadata": {},
   "outputs": [],
   "source": [
    "new_df=df.drop(columns=['endTime','msPlayed'])"
   ]
  },
  {
   "cell_type": "code",
   "execution_count": 36,
   "id": "36886a06",
   "metadata": {},
   "outputs": [],
   "source": [
    "new_df.head()\n",
    "new_df.to_excel('Arvind_spotify_Data.xlsx',index=False)"
   ]
  },
  {
   "cell_type": "code",
   "execution_count": 37,
   "id": "38609632",
   "metadata": {},
   "outputs": [
    {
     "data": {
      "text/plain": [
       "Timestamp('2022-02-12 00:00:00')"
      ]
     },
     "execution_count": 37,
     "metadata": {},
     "output_type": "execute_result"
    }
   ],
   "source": [
    "new_df['Date'][0]"
   ]
  },
  {
   "cell_type": "markdown",
   "id": "bc6bbf50",
   "metadata": {},
   "source": [
    "## EDA in Tableau"
   ]
  },
  {
   "cell_type": "code",
   "execution_count": 38,
   "id": "7f6402c0",
   "metadata": {},
   "outputs": [
    {
     "data": {
      "text/html": [
       "<div>\n",
       "<style scoped>\n",
       "    .dataframe tbody tr th:only-of-type {\n",
       "        vertical-align: middle;\n",
       "    }\n",
       "\n",
       "    .dataframe tbody tr th {\n",
       "        vertical-align: top;\n",
       "    }\n",
       "\n",
       "    .dataframe thead th {\n",
       "        text-align: right;\n",
       "    }\n",
       "</style>\n",
       "<table border=\"1\" class=\"dataframe\">\n",
       "  <thead>\n",
       "    <tr style=\"text-align: right;\">\n",
       "      <th></th>\n",
       "      <th>endTime</th>\n",
       "      <th>artistName</th>\n",
       "      <th>trackName</th>\n",
       "      <th>msPlayed</th>\n",
       "      <th>Time</th>\n",
       "      <th>Date</th>\n",
       "      <th>Mins_played</th>\n",
       "      <th>Month</th>\n",
       "      <th>Day</th>\n",
       "    </tr>\n",
       "  </thead>\n",
       "  <tbody>\n",
       "    <tr>\n",
       "      <th>0</th>\n",
       "      <td>2022-02-12 01:34</td>\n",
       "      <td>Kanye West</td>\n",
       "      <td>Can't Tell Me Nothing</td>\n",
       "      <td>206122</td>\n",
       "      <td>01:34:00</td>\n",
       "      <td>2022-02-12</td>\n",
       "      <td>3.435367</td>\n",
       "      <td>2</td>\n",
       "      <td>12</td>\n",
       "    </tr>\n",
       "    <tr>\n",
       "      <th>1</th>\n",
       "      <td>2022-02-12 01:34</td>\n",
       "      <td>Kanye West</td>\n",
       "      <td>Can't Tell Me Nothing</td>\n",
       "      <td>1066</td>\n",
       "      <td>01:34:00</td>\n",
       "      <td>2022-02-12</td>\n",
       "      <td>0.017767</td>\n",
       "      <td>2</td>\n",
       "      <td>12</td>\n",
       "    </tr>\n",
       "    <tr>\n",
       "      <th>2</th>\n",
       "      <td>2022-02-12 01:35</td>\n",
       "      <td>Kanye West</td>\n",
       "      <td>Can't Tell Me Nothing</td>\n",
       "      <td>6357</td>\n",
       "      <td>01:35:00</td>\n",
       "      <td>2022-02-12</td>\n",
       "      <td>0.105950</td>\n",
       "      <td>2</td>\n",
       "      <td>12</td>\n",
       "    </tr>\n",
       "    <tr>\n",
       "      <th>3</th>\n",
       "      <td>2022-02-12 01:39</td>\n",
       "      <td>Swedish House Mafia</td>\n",
       "      <td>Moth To A Flame (with The Weeknd)</td>\n",
       "      <td>234000</td>\n",
       "      <td>01:39:00</td>\n",
       "      <td>2022-02-12</td>\n",
       "      <td>3.900000</td>\n",
       "      <td>2</td>\n",
       "      <td>12</td>\n",
       "    </tr>\n",
       "    <tr>\n",
       "      <th>4</th>\n",
       "      <td>2022-02-12 01:43</td>\n",
       "      <td>FATE</td>\n",
       "      <td>Darkness</td>\n",
       "      <td>135500</td>\n",
       "      <td>01:43:00</td>\n",
       "      <td>2022-02-12</td>\n",
       "      <td>2.258333</td>\n",
       "      <td>2</td>\n",
       "      <td>12</td>\n",
       "    </tr>\n",
       "    <tr>\n",
       "      <th>...</th>\n",
       "      <td>...</td>\n",
       "      <td>...</td>\n",
       "      <td>...</td>\n",
       "      <td>...</td>\n",
       "      <td>...</td>\n",
       "      <td>...</td>\n",
       "      <td>...</td>\n",
       "      <td>...</td>\n",
       "      <td>...</td>\n",
       "    </tr>\n",
       "    <tr>\n",
       "      <th>9995</th>\n",
       "      <td>2022-08-05 20:20</td>\n",
       "      <td>S. P. Balasubrahmanyam</td>\n",
       "      <td>Oruvan Oruvan Mudalali</td>\n",
       "      <td>381411</td>\n",
       "      <td>20:20:00</td>\n",
       "      <td>2022-08-05</td>\n",
       "      <td>6.356850</td>\n",
       "      <td>8</td>\n",
       "      <td>5</td>\n",
       "    </tr>\n",
       "    <tr>\n",
       "      <th>9996</th>\n",
       "      <td>2022-08-05 20:24</td>\n",
       "      <td>Vijay</td>\n",
       "      <td>Selfie Pulla</td>\n",
       "      <td>293000</td>\n",
       "      <td>20:24:00</td>\n",
       "      <td>2022-08-05</td>\n",
       "      <td>4.883333</td>\n",
       "      <td>8</td>\n",
       "      <td>5</td>\n",
       "    </tr>\n",
       "    <tr>\n",
       "      <th>9997</th>\n",
       "      <td>2022-08-05 20:27</td>\n",
       "      <td>Akon</td>\n",
       "      <td>Holla Holla</td>\n",
       "      <td>180186</td>\n",
       "      <td>20:27:00</td>\n",
       "      <td>2022-08-05</td>\n",
       "      <td>3.003100</td>\n",
       "      <td>8</td>\n",
       "      <td>5</td>\n",
       "    </tr>\n",
       "    <tr>\n",
       "      <th>9998</th>\n",
       "      <td>2022-08-05 20:31</td>\n",
       "      <td>*NSYNC</td>\n",
       "      <td>Bye Bye Bye</td>\n",
       "      <td>200560</td>\n",
       "      <td>20:31:00</td>\n",
       "      <td>2022-08-05</td>\n",
       "      <td>3.342667</td>\n",
       "      <td>8</td>\n",
       "      <td>5</td>\n",
       "    </tr>\n",
       "    <tr>\n",
       "      <th>9999</th>\n",
       "      <td>2022-08-05 20:34</td>\n",
       "      <td>benny blanco</td>\n",
       "      <td>Eastside (with Halsey &amp; Khalid)</td>\n",
       "      <td>173799</td>\n",
       "      <td>20:34:00</td>\n",
       "      <td>2022-08-05</td>\n",
       "      <td>2.896650</td>\n",
       "      <td>8</td>\n",
       "      <td>5</td>\n",
       "    </tr>\n",
       "  </tbody>\n",
       "</table>\n",
       "<p>10000 rows × 9 columns</p>\n",
       "</div>"
      ],
      "text/plain": [
       "               endTime              artistName  \\\n",
       "0     2022-02-12 01:34              Kanye West   \n",
       "1     2022-02-12 01:34              Kanye West   \n",
       "2     2022-02-12 01:35              Kanye West   \n",
       "3     2022-02-12 01:39     Swedish House Mafia   \n",
       "4     2022-02-12 01:43                    FATE   \n",
       "...                ...                     ...   \n",
       "9995  2022-08-05 20:20  S. P. Balasubrahmanyam   \n",
       "9996  2022-08-05 20:24                   Vijay   \n",
       "9997  2022-08-05 20:27                    Akon   \n",
       "9998  2022-08-05 20:31                  *NSYNC   \n",
       "9999  2022-08-05 20:34            benny blanco   \n",
       "\n",
       "                              trackName  msPlayed      Time       Date  \\\n",
       "0                 Can't Tell Me Nothing    206122  01:34:00 2022-02-12   \n",
       "1                 Can't Tell Me Nothing      1066  01:34:00 2022-02-12   \n",
       "2                 Can't Tell Me Nothing      6357  01:35:00 2022-02-12   \n",
       "3     Moth To A Flame (with The Weeknd)    234000  01:39:00 2022-02-12   \n",
       "4                              Darkness    135500  01:43:00 2022-02-12   \n",
       "...                                 ...       ...       ...        ...   \n",
       "9995             Oruvan Oruvan Mudalali    381411  20:20:00 2022-08-05   \n",
       "9996                       Selfie Pulla    293000  20:24:00 2022-08-05   \n",
       "9997                        Holla Holla    180186  20:27:00 2022-08-05   \n",
       "9998                        Bye Bye Bye    200560  20:31:00 2022-08-05   \n",
       "9999    Eastside (with Halsey & Khalid)    173799  20:34:00 2022-08-05   \n",
       "\n",
       "      Mins_played  Month  Day  \n",
       "0        3.435367      2   12  \n",
       "1        0.017767      2   12  \n",
       "2        0.105950      2   12  \n",
       "3        3.900000      2   12  \n",
       "4        2.258333      2   12  \n",
       "...           ...    ...  ...  \n",
       "9995     6.356850      8    5  \n",
       "9996     4.883333      8    5  \n",
       "9997     3.003100      8    5  \n",
       "9998     3.342667      8    5  \n",
       "9999     2.896650      8    5  \n",
       "\n",
       "[10000 rows x 9 columns]"
      ]
     },
     "execution_count": 38,
     "metadata": {},
     "output_type": "execute_result"
    }
   ],
   "source": [
    "df"
   ]
  },
  {
   "cell_type": "code",
   "execution_count": 40,
   "id": "adace96c",
   "metadata": {},
   "outputs": [],
   "source": [
    "import seaborn as sns"
   ]
  },
  {
   "cell_type": "code",
   "execution_count": 47,
   "id": "7d69e0f1",
   "metadata": {},
   "outputs": [
    {
     "data": {
      "text/plain": [
       "<AxesSubplot:>"
      ]
     },
     "execution_count": 47,
     "metadata": {},
     "output_type": "execute_result"
    },
    {
     "data": {
      "image/png": "[encoded data removed]",
      "text/plain": [
       "<Figure size 640x480 with 2 Axes>"
      ]
     },
     "metadata": {},
     "output_type": "display_data"
    }
   ],
   "source": [
    "sns.heatmap(new_df.corr(),annot=True,cmap='bone_r')"
   ]
  },
  {
   "cell_type": "code",
   "execution_count": null,
   "id": "c282bae5",
   "metadata": {},
   "outputs": [],
   "source": []
  },
  {
   "cell_type": "code",
   "execution_count": null,
   "id": "0eee5ef6",
   "metadata": {},
   "outputs": [],
   "source": []
  },
  {
   "cell_type": "code",
   "execution_count": null,
   "id": "052096bf",
   "metadata": {},
   "outputs": [],
   "source": []
  },
  {
   "cell_type": "code",
   "execution_count": null,
   "id": "bf745113",
   "metadata": {},
   "outputs": [],
   "source": []
  },
  {
   "cell_type": "code",
   "execution_count": null,
   "id": "2a2e0cb5",
   "metadata": {},
   "outputs": [],
   "source": []
  },
  {
   "cell_type": "code",
   "execution_count": null,
   "id": "153d4ca1",
   "metadata": {},
   "outputs": [],
   "source": []
  },
  {
   "cell_type": "code",
   "execution_count": null,
   "id": "257d93bb",
   "metadata": {},
   "outputs": [],
   "source": []
  },
  {
   "cell_type": "code",
   "execution_count": null,
   "id": "7934d314",
   "metadata": {},
   "outputs": [],
   "source": []
  },
  {
   "cell_type": "code",
   "execution_count": null,
   "id": "bc0e0c79",
   "metadata": {},
   "outputs": [],
   "source": []
  },
  {
   "cell_type": "code",
   "execution_count": null,
   "id": "4d02d26d",
   "metadata": {},
   "outputs": [],
   "source": []
  },
  {
   "cell_type": "code",
   "execution_count": null,
   "id": "bb9a3462",
   "metadata": {},
   "outputs": [],
   "source": []
  },
  {
   "cell_type": "code",
   "execution_count": null,
   "id": "641bc90f",
   "metadata": {},
   "outputs": [],
   "source": []
  },
  {
   "cell_type": "code",
   "execution_count": null,
   "id": "30073930",
   "metadata": {},
   "outputs": [],
   "source": []
  },
  {
   "cell_type": "code",
   "execution_count": null,
   "id": "43411af6",
   "metadata": {},
   "outputs": [],
   "source": []
  }
 ],
 "metadata": {
  "kernelspec": {
   "display_name": "Python 3 (ipykernel)",
   "language": "python",
   "name": "python3"
  },
  "language_info": {
   "codemirror_mode": {
    "name": "ipython",
    "version": 3
   },
   "file_extension": ".py",
   "mimetype": "text/x-python",
   "name": "python",
   "nbconvert_exporter": "python",
   "pygments_lexer": "ipython3",
   "version": "3.9.13"
  }
 },
 "nbformat": 4,
 "nbformat_minor": 5
}
